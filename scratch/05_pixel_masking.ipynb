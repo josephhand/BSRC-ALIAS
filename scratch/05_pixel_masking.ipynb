{
 "cells": [
  {
   "cell_type": "code",
   "execution_count": 1,
   "id": "1e71463e-8ab7-4e07-95b6-f6ed34c32ec9",
   "metadata": {},
   "outputs": [
    {
     "name": "stderr",
     "output_type": "stream",
     "text": [
      "/mnt_home/jhand/alias/alias/__init__.py:30: TqdmExperimentalWarning: Using `tqdm.autonotebook.tqdm` in notebook mode. Use `tqdm.tqdm` instead to force console mode (e.g. in jupyter console)\n",
      "  import tqdm.autonotebook as tqdm\n"
     ]
    }
   ],
   "source": [
    "import alias\n",
    "\n",
    "import matplotlib.pyplot as plt\n",
    "import scipy.signal\n",
    "\n",
    "import numpy as np\n",
    "from astropy.io import fits\n",
    "\n",
    "import random as rand\n",
    "\n",
    "import tqdm.autonotebook as tqdm\n",
    "\n",
    "plt.rcParams.update({'font.size': 10})\n",
    "\n",
    "%matplotlib inline"
   ]
  },
  {
   "cell_type": "code",
   "execution_count": 2,
   "id": "44f9c389-dd2f-4605-bb10-adec41219c2b",
   "metadata": {},
   "outputs": [
    {
     "name": "stderr",
     "output_type": "stream",
     "text": [
      "/mnt_home/jhand/alias/alias/__init__.py:93: RuntimeWarning: divide by zero encountered in power\n",
      "  spec_ivar_parts = np.array(hdul[2].data)**-2\n",
      "/home/jhand/.conda/envs/dev/lib/python3.11/site-packages/numpy/lib/function_base.py:551: RuntimeWarning: invalid value encountered in multiply\n",
      "  avg = avg_as_array = np.multiply(a, wgt,\n"
     ]
    }
   ],
   "source": [
    "with open('../data/sample_star_urls', 'r') as f:\n",
    "    urls = f.read().splitlines()\n",
    "\n",
    "files = [ '../data/spectra/%s' %url.split('/')[-1] for url in urls ]\n",
    "\n",
    "ds = alias.loadDataset(files)"
   ]
  },
  {
   "cell_type": "code",
   "execution_count": 3,
   "id": "2ca96bb8-b43a-4040-a786-936eff4975e4",
   "metadata": {},
   "outputs": [],
   "source": [
    "# Injection Testing Framework\n",
    "\n",
    "def create_laser_signature(wave, lsf, idx):\n",
    "    line = np.interp(np.array(range(len(wave)))-idx, lsf.x, lsf.y)\n",
    "    return line\n",
    "\n",
    "def injection_test(ds, lsf, detector, count, min_amp, max_amp):\n",
    "    results = []\n",
    "\n",
    "    for i in tqdm.trange(count):\n",
    "        \n",
    "        spec = rand.randrange(len(ds.flux))\n",
    "        valid_idx = np.nonzero(~np.isnan(ds.flux[spec]))[0]\n",
    "        idx_int = np.random.choice(valid_idx)\n",
    "        idx = idx_int + np.random.uniform(-0.5, 0.5)\n",
    "        wave = np.interp(idx, range(len(ds.wave)), ds.wave)\n",
    "        amp = np.random.uniform(min_amp, max_amp)\n",
    "\n",
    "        nflux = np.copy(ds.flux[spec])\n",
    "        nflux += create_laser_signature(ds.wave, lsf, idx)*amp\n",
    "        \n",
    "        detections = detector(ds.wave, nflux, ds.ivar[spec])\n",
    "\n",
    "        if len(detections) == 0:\n",
    "            results.append((spec, idx, amp, 0, 0, 0, 0))\n",
    "            continue\n",
    "\n",
    "        detection_wavelengths = detections[:,0]\n",
    "        detection_amplitudes = detections[:,1]\n",
    "\n",
    "        detec_id = np.argmin(np.abs(detection_wavelengths - wave))\n",
    "        delta_wave = detection_wavelengths[detec_id] - wave\n",
    "\n",
    "        if np.abs(delta_wave) > 1:\n",
    "            results.append((spec, idx, amp, 0, 0, 0, len(detections)))\n",
    "            continue\n",
    "        \n",
    "        delta_flux = detection_amplitudes[detec_id] - amp\n",
    "        results.append((spec, idx, amp, 1, delta_wave, delta_flux, len(detections) - 1))\n",
    "\n",
    "    return np.array(results, dtype=float)"
   ]
  },
  {
   "cell_type": "code",
   "execution_count": null,
   "id": "d10c1693-ca67-4dba-a044-931916579a48",
   "metadata": {},
   "outputs": [],
   "source": [
    "def chi2_lsf(y, y_err, lsfx, lsfy, amp, center_pix):\n",
    "    lsf = np.interp(range(len(y)), lsfx + center_pix, amp*lsfy)\n",
    "    return np.sum(((y - lsf)/y_err)**2)\n",
    "\n",
    "def improve_properties(wave, flux, ivar, amp):\n",
    "    center_idx = np.linspace(len(wave)/2 - 1, len(wave)/2, 64)\n",
    "    \n",
    "    chi2 = [ chi2_lsf(flux, ivar**-0.5, inj.default_lsf.x, np.array(inj.default_lsf.y), 0.3, center) for center in center_idx ]\n",
    "    \n",
    "    best_idx = center_idx[np.argmin(chi2)]\n",
    "    best_wl = np.interp(best_idx, range(len(wave)), wave)\n",
    "\n",
    "    # We can use our approximate guess of the amplitude to get a range to look for an improved amplitude\n",
    "    amps = np.linspace(amp * 0.7, amp*1.4, 64)\n",
    "    \n",
    "    chi2 = [ chi2_lsf(flux, ivar**-0.5, inj.default_lsf.x, np.array(inj.default_lsf.y), amp, best_idx) for amp in amps ]\n",
    "    \n",
    "    best_amplitude = amps[np.argmin(chi2)]\n",
    "\n",
    "    return best_wl, best_amplitude"
   ]
  },
  {
   "cell_type": "code",
   "execution_count": null,
   "id": "90f5811f-8d3b-46cd-99d8-b4ab38fd83d7",
   "metadata": {},
   "outputs": [],
   "source": [
    "def accurate_detector(wave, flux, ivar):\n",
    "        \n",
    "    flux_norm_res, ivar_norm_res, _ = cn.continuum_normalize((flux, ), (ivar))\n",
    "    flux_norm_res = flux_norm_res[0]\n",
    "    ivar_norm_res = ivar_norm_res[0]\n",
    "    flux_norm_res -= median_flux\n",
    "    peaks = scipy.signal.find_peaks(flux_norm_res, height = 0.05)[0]\n",
    "\n",
    "    amplitudes = flux_norm_res[peaks]\n",
    "    \n",
    "    amplitudes_corrected = []\n",
    "    wavelengths = []\n",
    "\n",
    "    for peak in peaks:\n",
    "        peak_w = wave[peak-10:peak+11]\n",
    "        peak_f = flux_norm_res[peak-10:peak+11]\n",
    "        peak_i = ivar_norm_res[peak-10:peak+11]\n",
    "        nan_filter = np.isnan(peak_f) | np.isnan(peak_w) | np.isnan(peak_i)\n",
    "        wl, amp = improve_properties(peak_w[~nan_filter], peak_f[~nan_filter], peak_i[~nan_filter], flux_norm_res[peak])\n",
    "        wavelengths.append(wl)\n",
    "        amplitudes_corrected.append(amp)\n",
    "    \n",
    "    return np.array((wavelengths, amplitudes_corrected)).T"
   ]
  },
  {
   "cell_type": "code",
   "execution_count": null,
   "id": "ae90164c-9b1f-4892-a464-0d3368e3e0d1",
   "metadata": {},
   "outputs": [],
   "source": [
    "norm_flux = cn.continuum_normalize(ds.flux, ds.ivar)[0]\n",
    "\n",
    "median_flux = np.nanmedian(norm_flux, axis=0)"
   ]
  },
  {
   "cell_type": "code",
   "execution_count": null,
   "id": "bb9778be-da0b-4cbd-8c17-d9a9bf0b4f94",
   "metadata": {
    "scrolled": true
   },
   "outputs": [],
   "source": [
    "all_detections = []\n",
    "\n",
    "for i in tqdm.trange(len(ds.flux)):\n",
    "        \n",
    "        detections = accurate_detector(ds.wave, ds.flux[i], ds.ivar[i])\n",
    "\n",
    "        for d in detections:\n",
    "            all_detections.append((i, d[0], d[1]))\n",
    "\n",
    "print(all_detections)"
   ]
  },
  {
   "cell_type": "code",
   "execution_count": null,
   "id": "2f6ca59a-c646-4f7f-8b6e-e30c7b5ca938",
   "metadata": {},
   "outputs": [],
   "source": [
    "all_detections = np.array(all_detections)"
   ]
  },
  {
   "cell_type": "code",
   "execution_count": null,
   "id": "104d2737-5296-4869-b932-b427a18cc640",
   "metadata": {
    "scrolled": true
   },
   "outputs": [],
   "source": [
    "fig, ax = plt.subplots()\n",
    "\n",
    "ax.scatter(all_detections[:,1], all_detections[:,2], s=1)\n",
    "\n",
    "ax.set_xlim(15750, 16000)\n",
    "ax.set_ylim(-0.1, 1.1)\n",
    "\n",
    "ax.set_xlabel(r'$\\lambda$ ($\\AA$)')\n",
    "ax.set_ylabel(r'Amplitude')\n",
    "\n",
    "fig.set_figwidth(6)\n",
    "fig.set_figheight(3)\n",
    "\n",
    "fig.tight_layout()\n",
    "\n",
    "plt.show()"
   ]
  },
  {
   "cell_type": "code",
   "execution_count": null,
   "id": "3e757195-6f60-4bdf-a563-7053f2f784cb",
   "metadata": {},
   "outputs": [],
   "source": [
    "wl_idx_detections = np.array(np.interp(all_detections[:,1], ds.wave, range(len(ds.wave))), dtype=int)"
   ]
  },
  {
   "cell_type": "code",
   "execution_count": null,
   "id": "88ae673f-34cf-426b-8d77-02cc19c88426",
   "metadata": {},
   "outputs": [],
   "source": [
    "near_ccd = np.array([ (ds.flux[int(all_detections[i,0])][wl_idx_detections[i]-10] < 0.05) or (ds.flux[int(all_detections[i,0])][wl_idx_detections[i]+10] < 0.05) for i in range(len(all_detections)) ])"
   ]
  },
  {
   "cell_type": "code",
   "execution_count": null,
   "id": "55590ec9-e058-451b-8e71-ac390c3d8878",
   "metadata": {},
   "outputs": [],
   "source": [
    "fig, ax = plt.subplots()\n",
    "\n",
    "ax.scatter(all_detections[~near_ccd,1], all_detections[~near_ccd,2], s=1)\n",
    "\n",
    "ax.set_xlim(15750, 16000)\n",
    "ax.set_ylim(-0.1, 1.1)\n",
    "\n",
    "ax.set_xlabel(r'$\\lambda$ ($\\AA$)')\n",
    "ax.set_ylabel(r'Amplitude')\n",
    "\n",
    "fig.set_figwidth(6)\n",
    "fig.set_figheight(3)\n",
    "\n",
    "fig.tight_layout()\n",
    "\n",
    "plt.show()"
   ]
  },
  {
   "cell_type": "code",
   "execution_count": null,
   "id": "c9ebf5ec-4b3a-498d-ad25-2a6f6388a0d9",
   "metadata": {},
   "outputs": [],
   "source": [
    "hist = np.array([0]*len(ds.wave))\n",
    "\n",
    "hist_partial = np.bincount(wl_idx_detections)\n",
    "\n",
    "hist[0:len(hist_partial)] = hist_partial\n",
    "\n",
    "plt.figure(figsize=(6,3))\n",
    "\n",
    "plt.plot(ds.wave, hist)\n",
    "\n",
    "plt.xlabel(r'$\\lambda$ ($\\AA$)')\n",
    "_ = plt.ylabel('Number of Detections')"
   ]
  },
  {
   "cell_type": "code",
   "execution_count": null,
   "id": "3739dcb8-93f7-489a-a30e-50f7d05827da",
   "metadata": {},
   "outputs": [],
   "source": [
    "mask = hist > 1\n",
    "print(sum(mask) * 100/len(ds.wave))"
   ]
  },
  {
   "cell_type": "code",
   "execution_count": null,
   "id": "3ce6a421-069b-4a0e-bba4-99c3fff9c2ba",
   "metadata": {},
   "outputs": [],
   "source": [
    "\n",
    "plt.figure(figsize=(6,3))\n",
    "\n",
    "plt.plot(np.sort(hist), np.linspace(100, 0, len(hist)))\n",
    "\n",
    "plt.xlabel('Detection Count Threshold')\n",
    "_ = plt.ylabel('Percentage of Bad Pixels')"
   ]
  },
  {
   "cell_type": "code",
   "execution_count": null,
   "id": "bb7c7f13-db0f-4f75-acb1-1d39ee896976",
   "metadata": {},
   "outputs": [],
   "source": [
    "fig, ax = plt.subplots()\n",
    "\n",
    "ax.scatter(all_detections[:,1], all_detections[:,2], s=1, label='Detections')\n",
    "ax.scatter(ds.wave[mask], [0] * sum(mask), s=1, label='Bad Pixels')\n",
    "\n",
    "ax.set_xlim(15750, 16000)\n",
    "ax.set_ylim(-0.1, 1.1)\n",
    "\n",
    "ax.set_xlabel(r'$\\lambda$ ($\\AA$)')\n",
    "ax.set_ylabel(r'Amplitude')\n",
    "\n",
    "ax.legend()\n",
    "\n",
    "fig.set_figwidth(6)\n",
    "fig.set_figheight(3)\n",
    "\n",
    "fig.tight_layout()\n",
    "\n",
    "plt.show()"
   ]
  },
  {
   "cell_type": "code",
   "execution_count": null,
   "id": "198c6f59-13e9-4b3c-9ab5-2f565187770d",
   "metadata": {},
   "outputs": [],
   "source": [
    "candidates = np.array(all_detections[~mask[wl_idx_detections]])\n",
    "print(np.shape(candidates))\n",
    "\n",
    "candidates[0,0]\n",
    "\n",
    "with open('candidates.csv', 'w') as f:\n",
    "    f.write('SPECTRUM_ID,WAVELENGTH,AMPLITUDE\\n')\n",
    "    [f.write(','.join(np.array(candidate, dtype=str)) + '\\n') for candidate in candidates]"
   ]
  },
  {
   "cell_type": "code",
   "execution_count": null,
   "id": "6b2212dd-b925-4efa-811a-4cdbfbe46b33",
   "metadata": {},
   "outputs": [],
   "source": [
    "n = 35\n",
    "\n",
    "plt.plot(ds.wave, norm_flux[int(candidates[n,0])])\n",
    "plt.plot((candidates[n,1], candidates[n,1]), (0,2))\n",
    "\n",
    "plt.xlim(candidates[n,1] - 10, candidates[n,1] + 10)\n",
    "plt.ylim(0.4, 1.4)\n",
    "\n",
    "plt.scatter(ds.wave[mask], [1.1]*sum(mask), s=1)"
   ]
  },
  {
   "cell_type": "code",
   "execution_count": null,
   "id": "f5318975-3cab-48d7-8535-427e93e198ed",
   "metadata": {},
   "outputs": [],
   "source": [
    "def get_width(wl, height, wave, residuals):\n",
    "    wave_idx = int(np.interp(wl, wave, range(len(wave))))\n",
    "\n",
    "    min = wave_idx-1\n",
    "    while residuals[min] > height/2:\n",
    "        min = min-1\n",
    "    wl_l = np.interp(height/2, residuals[min:min+2], wave[min:min+2])\n",
    "    \n",
    "    max = wave_idx+1\n",
    "    while residuals[max] > height/2:\n",
    "        max = max+1\n",
    "    wl_h = np.interp(height/2, np.flip(residuals[max-1:max+1]), np.flip(wave[max-1:max+1]))\n",
    "\n",
    "    return wl_l,wl_h,wl_h-wl_l"
   ]
  },
  {
   "cell_type": "code",
   "execution_count": null,
   "id": "779ce558-21aa-40a9-8b21-e0e483799702",
   "metadata": {},
   "outputs": [],
   "source": [
    "n = 37\n",
    "\n",
    "wl_l,wl_h,_ = get_width(candidates[n,1], candidates[n,2], ds.wave, norm_flux[int(candidates[n,0])]-median_flux)\n",
    "\n",
    "plt.plot(ds.wave, norm_flux[int(candidates[n,0])] - median_flux)\n",
    "plt.plot((candidates[n,1], candidates[n,1]), (-2,2))\n",
    "\n",
    "plt.xlim(candidates[n,1] - 1, candidates[n,1] + 1)\n",
    "plt.ylim(-0.4, 0.4)\n",
    "\n",
    "plt.plot((14000, 19000), (candidates[n,2]/2, candidates[n,2]/2))\n",
    "\n",
    "plt.plot((wl_l, wl_l), (-2,2))\n",
    "plt.plot((wl_h, wl_h), (-2,2))\n",
    "\n",
    "plt.scatter(ds.wave[mask], [1.1]*sum(mask), s=1)"
   ]
  },
  {
   "cell_type": "code",
   "execution_count": null,
   "id": "f075a9b7-2060-4400-8194-4ddf36aa130e",
   "metadata": {},
   "outputs": [],
   "source": [
    "widths = np.array([ get_width(candidate[1], candidate[2], ds.wave, norm_flux[int(candidate[0])]-median_flux)[2] for candidate in candidates ])"
   ]
  },
  {
   "cell_type": "code",
   "execution_count": null,
   "id": "5f1ecb26-0989-46c7-890c-d32c5203d7ef",
   "metadata": {},
   "outputs": [],
   "source": [
    "fig, ax = plt.subplots()\n",
    "\n",
    "ax.hist(widths, bins=100)\n",
    "\n",
    "ax.set_xlabel(r'FWHM ($\\AA$)')\n",
    "ax.set_ylabel(r'# of Candidates')\n",
    "\n",
    "fig.set_figwidth(6)\n",
    "fig.set_figheight(3)\n",
    "\n",
    "fig.tight_layout()\n",
    "\n",
    "plt.show()"
   ]
  },
  {
   "cell_type": "code",
   "execution_count": null,
   "id": "aa8cfc9f-d0fa-4e41-afb4-5b0dc3664c90",
   "metadata": {},
   "outputs": [],
   "source": [
    "np.argwhere(widths > 4)"
   ]
  },
  {
   "cell_type": "code",
   "execution_count": null,
   "id": "7f70e4a4-48a0-4f9c-8e7b-1d52821ab092",
   "metadata": {},
   "outputs": [],
   "source": [
    "n = 319\n",
    "\n",
    "plt.plot(ds.wave, norm_flux[int(candidates[n,0])])\n",
    "plt.plot((candidates[n,1], candidates[n,1]), (0,2))\n",
    "\n",
    "plt.xlim(candidates[n,1] - 10, candidates[n,1] + 10)\n",
    "plt.ylim(0.4, 1.4)\n",
    "\n",
    "plt.scatter(ds.wave[mask], [1.1]*sum(mask), s=1)"
   ]
  },
  {
   "cell_type": "code",
   "execution_count": null,
   "id": "3e2a6aea-bfe7-464a-8c6e-88d7864e4611",
   "metadata": {},
   "outputs": [],
   "source": []
  }
 ],
 "metadata": {
  "kernelspec": {
   "display_name": "Python 3 (ipykernel)",
   "language": "python",
   "name": "python3"
  },
  "language_info": {
   "codemirror_mode": {
    "name": "ipython",
    "version": 3
   },
   "file_extension": ".py",
   "mimetype": "text/x-python",
   "name": "python",
   "nbconvert_exporter": "python",
   "pygments_lexer": "ipython3",
   "version": "3.11.3"
  }
 },
 "nbformat": 4,
 "nbformat_minor": 5
}

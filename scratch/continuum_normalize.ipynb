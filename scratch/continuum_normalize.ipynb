{
 "cells": [
  {
   "cell_type": "code",
   "execution_count": null,
   "id": "4610da0d-f881-4aa9-b210-d613eca46f49",
   "metadata": {},
   "outputs": [],
   "source": [
    "import alias\n",
    "import alias.injection as inj\n",
    "\n",
    "import numpy as np\n",
    "import matplotlib.pyplot as plt\n",
    "\n",
    "import scipy\n",
    "\n",
    "import tqdm.autonotebook as tqdm\n",
    "\n",
    "import math"
   ]
  },
  {
   "cell_type": "code",
   "execution_count": null,
   "id": "cc1e2802-b5dd-48bb-93d2-5f97ba5f56a5",
   "metadata": {},
   "outputs": [],
   "source": [
    "median = np.nanmedian(ds.flux, axis=1)\n",
    "residuals = ds.flux - median[:,None]"
   ]
  },
  {
   "cell_type": "code",
   "execution_count": null,
   "id": "a77d6209-c255-4043-ae4a-ee16fdd3e44d",
   "metadata": {},
   "outputs": [],
   "source": [
    "# Manually inspecting small regions of the spectrum to identify continuum pixels.\n",
    "\n",
    "_ = plt.plot(ds.flux.T[:,:50], color='black', alpha=0.2)\n",
    "\n",
    "n = 41\n",
    "plt.xlim(200*n, 200*(n+1))\n",
    "plt.ylim(0.5, 1.5)"
   ]
  },
  {
   "cell_type": "markdown",
   "id": "6281ad9d-9c66-47b7-b721-72c3363604fa",
   "metadata": {},
   "source": [
    "Through visual inspection of the spectra, the continuum pixels were selectet to be at indices:\n",
    "\n",
    "- CCD 1: 250, 450, 760, 860, 1050, 1300, 1500, 1700, 1885, 2157, 2300, 2460, 2690, 2900, 3100, and 3270\n",
    "- CCD 2: 3555, 3675, 3900, 4150, 4260, 4500, 4700, 4850, 5030, 5360, 5460, 5675, 5865, and 6100\n",
    "- CCD 3: 6365, 6490, 6730, 6875, 7050, 7370, 7500, 7700, 7950, 8075, and 8250\n",
    "\n",
    "and the gaps between the CCDs were determined to be at indices 3400 and 6250."
   ]
  },
  {
   "cell_type": "code",
   "execution_count": null,
   "id": "dc4b6ae0-ffc8-4ceb-967d-4737b7d5d204",
   "metadata": {},
   "outputs": [],
   "source": [
    "continuum_pix = [\n",
    "    [ 250, 450, 760, 1050, 1300, 1700, 1885, 2300, 2460, 2690, 2900, 3270 ],\n",
    "    [ 3555, 3900, 4150, 4260, 4700, 4850, 5030, 5460, 5675, 5865, 6100 ],\n",
    "    [ 6365, 6490, 6730, 6875, 7050, 7370, 7500, 7700, 7950, 8075, 8250 ]\n",
    "]\n",
    "\n",
    "def continuum_norm(flux, ivar):\n",
    "    \n",
    "    p = [ np.polyfit(cont_p, flux[cont_p], 6) for cont_p in continuum_pix]\n",
    "    cont = np.array([ np.polyval(c, range(len(ds.wave))) for c in p])\n",
    "    \n",
    "    flux_norm = np.copy(flux)\n",
    "    ivar_norm = np.copy(ivar)\n",
    "    \n",
    "    flux_norm[:3400] /= cont[0][:3400]\n",
    "    flux_norm[3400:6250] /= cont[1][3400:6250]\n",
    "    flux_norm[6250:] /= cont[2][6250:]\n",
    "\n",
    "    ivar_norm[:3400] *= cont[0][:3400]**2\n",
    "    ivar_norm[3400:6250] *= cont[1][3400:6250]**2\n",
    "    ivar_norm[6250:] *= cont[2][6250:]**2\n",
    "\n",
    "    return flux_norm, ivar_norm"
   ]
  },
  {
   "cell_type": "code",
   "execution_count": null,
   "id": "58d3ce22-474a-4fdb-aa99-d90fe44beb13",
   "metadata": {},
   "outputs": [],
   "source": [
    "plt.figure(figsize=(12,4))\n",
    "\n",
    "plt.plot(ds.flux[101])\n",
    "plt.plot([3400]*2, (0,2))\n",
    "plt.plot([6250]*2, (0,2))\n",
    "plt.ylim(0.5, 1.3)\n",
    "\n",
    "plt.xlabel(r'$\\lambda$ ($\\AA$)')\n",
    "plt.ylabel(r'Relative Flux')\n",
    "\n",
    "\n",
    "plt.xlabel(r'$\\lambda$ ($\\AA$)')\n",
    "_ = plt.ylabel(r'Relative Flux')\n",
    "\n",
    "plt.tight_layout()"
   ]
  },
  {
   "cell_type": "code",
   "execution_count": null,
   "id": "4e96afbe-3f4b-4843-aae2-4d4321a97b96",
   "metadata": {},
   "outputs": [],
   "source": [
    "data = np.array([ continuum_norm(ds.flux[n], ds.ivar[n]) for n in range(len(ds.flux))])\n",
    "\n",
    "flux_norm = data[:,0,:]\n",
    "ivar_norm = data[:,1,:]"
   ]
  },
  {
   "cell_type": "code",
   "execution_count": null,
   "id": "a4ffb5ca-e7f6-4af6-a75f-9bd0cc965025",
   "metadata": {},
   "outputs": [],
   "source": [
    "plt.figure(figsize=(12,4))\n",
    "\n",
    "plt.plot(ds.wave, flux_norm[101])\n",
    "plt.ylim(0.5, 1.3)\n",
    "\n",
    "\n",
    "plt.xlabel(r'$\\lambda$ ($\\AA$)')\n",
    "_ = plt.ylabel(r'Relative Flux')\n",
    "\n",
    "plt.tight_layout()\n",
    "\n",
    "plt.savefig('continuum_normalized.png', dpi=150)"
   ]
  },
  {
   "cell_type": "code",
   "execution_count": null,
   "id": "676821e6-f431-41cf-be3a-5f24c2cf2518",
   "metadata": {},
   "outputs": [],
   "source": [
    "plt.figure(figsize=(12,4))\n",
    "\n",
    "spec = 103\n",
    "\n",
    "plt.plot(ds.wave, ds.flux[spec])\n",
    "\n",
    "plt.xlabel(r'$\\lambda$ ($\\AA$)')\n",
    "plt.ylabel(r'Relative Flux')\n",
    "\n",
    "_ = plt.tight_layout()"
   ]
  },
  {
   "cell_type": "code",
   "execution_count": null,
   "id": "e0907107-fbd7-4d11-900e-e33eabc7b930",
   "metadata": {},
   "outputs": [],
   "source": [
    "# Split the flux array into many 200-pixel segments\n",
    "\n",
    "segment_len = 100\n",
    "\n",
    "flux = np.concatenate((ds.flux[spec], [math.nan]*(segment_len - len(ds.wave) % segment_len)))\n",
    "\n",
    "print(len(ds.wave))\n",
    "print(len(flux))\n",
    "\n",
    "f_idx = np.array([ range(segment_len*n, segment_len*n+segment_len) for n in range(0, int(len(flux)/segment_len)) ])\n",
    "flux_segments = flux[f_idx]\n",
    "\n",
    "print(np.shape(flux_segments))\n",
    "\n",
    "plt.figure(figsize=(12,4))\n",
    "plt.plot(flux_segments.T)\n",
    "plt.xlabel(r'$\\Delta\\lambda$ (Pixels)')\n",
    "plt.ylabel(r'Relative Flux')"
   ]
  },
  {
   "cell_type": "code",
   "execution_count": null,
   "id": "30acde0e-da9d-4464-8819-e52d21d8a946",
   "metadata": {},
   "outputs": [],
   "source": [
    "# Get pixels in percentile range 80-90\n",
    "max_perc = np.nanpercentile(flux_segments, 90, axis=1)\n",
    "min_perc = np.nanpercentile(flux_segments, 70, axis=1)\n",
    "\n",
    "print(np.shape(max_perc))\n",
    "print(np.shape(min_perc))\n",
    "\n",
    "plt.figure(figsize=(12,4))\n",
    "plt.plot(max_perc, label='Continuum maximum')\n",
    "plt.plot(min_perc, label='Continuum minimum')\n",
    "plt.xlabel(r'Segment Index')\n",
    "plt.ylabel(r'Relative Flux')\n",
    "plt.legend()"
   ]
  },
  {
   "cell_type": "code",
   "execution_count": null,
   "id": "bdcc511d-2554-4830-86d6-c389600cc25d",
   "metadata": {},
   "outputs": [],
   "source": [
    "# Plot percentile range for sample segment to check it is good for isolating continuum pixels\n",
    "n = 62\n",
    "\n",
    "continuum_mask = (flux_segments[n] > min_perc[n]) & (flux_segments[n] < max_perc[n])\n",
    "\n",
    "plt.figure(figsize=(12,4))\n",
    "plt.plot((0,segment_len), [max_perc[n]]*2, label='Continuum Maximum')\n",
    "plt.plot((0,segment_len), [min_perc[n]]*2, label='Continuum Minimum')\n",
    "plt.plot(flux_segments[n], label='Spectrum')\n",
    "\n",
    "plt.scatter(np.array(range(0, segment_len))[continuum_mask], flux_segments[n][continuum_mask], label='Continuum Pixels')\n",
    "plt.xlabel(r'Pixels')\n",
    "plt.ylabel(r'Relative Flux')\n",
    "plt.legend()"
   ]
  },
  {
   "cell_type": "code",
   "execution_count": null,
   "id": "008dc1b7-6dee-48fc-ab0d-477eceef6692",
   "metadata": {},
   "outputs": [],
   "source": [
    "# Combine the continuum masks for all individual segments to collect all continuum pixels\n",
    "\n",
    "all_continuum_pixels = [ np.where((flux_segments[n] > min_perc[n]) & (flux_segments[n] < max_perc[n]))[0] + segment_len*n for n in range(len(flux_segments)) ]\n",
    "all_continuum_pixels = np.concatenate(all_continuum_pixels)\n",
    "\n",
    "print(np.shape(all_continuum_pixels))\n",
    "print(all_continuum_pixels)\n",
    "\n",
    "\n",
    "plt.figure(figsize=(12,4))\n",
    "\n",
    "plt.scatter(ds.wave[all_continuum_pixels], ds.flux[spec][all_continuum_pixels], label='Continuum Pixels', color='red', s=5)\n",
    "plt.plot(ds.wave, ds.flux[spec], label='Spectrum')\n",
    "\n",
    "plt.xlabel(r'$\\lambda$ ($\\AA$)')\n",
    "plt.ylabel(r'Relative Flux')\n",
    "plt.legend()"
   ]
  },
  {
   "cell_type": "code",
   "execution_count": null,
   "id": "99766088-ee48-4f31-ba35-4d12a55563bc",
   "metadata": {},
   "outputs": [],
   "source": [
    "# Perform continuum fits for all CCDs\n",
    "cont1 = all_continuum_pixels[(all_continuum_pixels < 3400)]\n",
    "fit1 = np.polyfit(cont1, ds.flux[spec][cont1], 6)\n",
    "\n",
    "cont2 = all_continuum_pixels[(all_continuum_pixels > 3400) & (all_continuum_pixels < 6250)]\n",
    "fit2 = np.polyfit(cont2, ds.flux[spec][cont2], 6)\n",
    "\n",
    "cont3 = all_continuum_pixels[(all_continuum_pixels > 6250)]\n",
    "fit3 = np.polyfit(cont3, ds.flux[spec][cont3], 6)\n",
    "\n",
    "print(fit1)\n",
    "print(fit2)\n",
    "print(fit3)\n",
    "\n",
    "cont1 = np.polyval(fit1, range(len(ds.wave)))\n",
    "cont2 = np.polyval(fit2, range(len(ds.wave)))\n",
    "cont3 = np.polyval(fit3, range(len(ds.wave)))"
   ]
  },
  {
   "cell_type": "code",
   "execution_count": null,
   "id": "5b575657-7c2c-459d-bd16-9c29e6933cce",
   "metadata": {},
   "outputs": [],
   "source": [
    "# Plot the fits to verify they are acceptable\n",
    "\n",
    "\n",
    "plt.figure(figsize=(12,4))\n",
    "\n",
    "plt.plot(ds.wave, ds.flux[spec], label='Spectrum')\n",
    "plt.plot(ds.wave, cont1, label='Fit 1')\n",
    "plt.plot(ds.wave, cont2, label='Fit 2')\n",
    "plt.plot(ds.wave, cont3, label='Fit 3')\n",
    "\n",
    "plt.ylim(0.4, 1.4)\n",
    "\n",
    "plt.xlabel(r'$\\lambda$ ($\\AA$)')\n",
    "plt.ylabel(r'Relative Flux')\n",
    "plt.legend()"
   ]
  },
  {
   "cell_type": "code",
   "execution_count": null,
   "id": "6271ef76-d2da-477d-a816-f3eb3c546b68",
   "metadata": {},
   "outputs": [],
   "source": [
    "# Combine the individual fits into one continuum and plot again\n",
    "continuum = np.concatenate((cont1[:3400], cont2[3400:6250], cont3[6250:]))\n",
    "\n",
    "print(np.shape(continuum))\n",
    "\n",
    "plt.figure(figsize=(12,4))\n",
    "\n",
    "plt.plot(ds.wave, ds.flux[spec], label='Spectrum')\n",
    "plt.plot(ds.wave, continuum, label='Continuum Fit')\n",
    "\n",
    "plt.ylim(0.4, 1.4)\n",
    "\n",
    "plt.xlabel(r'$\\lambda$ ($\\AA$)')\n",
    "plt.ylabel(r'Relative Flux')\n",
    "plt.legend()"
   ]
  },
  {
   "cell_type": "code",
   "execution_count": null,
   "id": "70ec5e2c-27fa-4f03-8874-f8bfd50c2ffe",
   "metadata": {},
   "outputs": [],
   "source": [
    "# Finally perform the continuum normalization and plot the result\n",
    "\n",
    "normalized_flux = ds.flux[spec] / continuum\n",
    "\n",
    "\n",
    "plt.figure(figsize=(12,4))\n",
    "\n",
    "plt.plot(ds.wave, normalized_flux, label='Continuum-Normalized Spectrum')\n",
    "\n",
    "plt.xlabel(r'$\\lambda$ ($\\AA$)')\n",
    "plt.ylabel(r'Relative Flux')\n",
    "plt.legend()"
   ]
  },
  {
   "cell_type": "code",
   "execution_count": null,
   "id": "e4402109-54cc-4a6a-9399-08b8df0918ff",
   "metadata": {},
   "outputs": [],
   "source": [
    "# Plot original spectrum to compare\n",
    "\n",
    "plt.figure(figsize=(12,4))\n",
    "\n",
    "plt.plot(ds.wave, ds.flux[spec], label='Spectrum')\n",
    "\n",
    "plt.ylim(0.4, 1.4)\n",
    "\n",
    "plt.xlabel(r'$\\lambda$ ($\\AA$)')\n",
    "plt.ylabel(r'Relative Flux')\n",
    "plt.legend()"
   ]
  },
  {
   "cell_type": "code",
   "execution_count": null,
   "id": "082b52af-e560-47d1-b4f4-3a3b79b1cec6",
   "metadata": {},
   "outputs": [],
   "source": [
    "# Combine the entire process above into a simple function to continuum normalize a single spectrum\n",
    "def _cn(flux, segment_len=100):\n",
    "    \n",
    "    flux = np.concatenate((flux, [math.nan]*(segment_len - len(flux) % segment_len)))\n",
    "    \n",
    "    f_idx = np.array([ range(segment_len*n, segment_len*n+segment_len) for n in range(0, int(len(flux)/segment_len)) ])\n",
    "    flux_segments = flux[f_idx]\n",
    "    \n",
    "    max_perc = np.nanpercentile(flux_segments, 80, axis=1)\n",
    "    min_perc = np.nanpercentile(flux_segments, 70, axis=1)\n",
    "    \n",
    "    all_continuum_pixels = np.concatenate([ \n",
    "        np.where((flux_segments[n] > min_perc[n]) & (flux_segments[n] < max_perc[n]))[0] + segment_len*n \n",
    "        for n in range(len(flux_segments))\n",
    "    ])\n",
    "\n",
    "    cont1 = all_continuum_pixels[(all_continuum_pixels < 3400)]\n",
    "    fit1 = np.polyfit(cont1, flux[cont1], 6)\n",
    "    cont2 = all_continuum_pixels[(all_continuum_pixels > 3400) & (all_continuum_pixels < 6250)]\n",
    "    fit2 = np.polyfit(cont2, flux[cont2], 6)\n",
    "    cont3 = all_continuum_pixels[(all_continuum_pixels > 6250)]\n",
    "    fit3 = np.polyfit(cont3, flux[cont3], 6)\n",
    "        \n",
    "    cont1 = np.polyval(fit1, range(len(flux)))\n",
    "    cont2 = np.polyval(fit2, range(len(flux)))\n",
    "    cont3 = np.polyval(fit3, range(len(flux)))\n",
    "    \n",
    "    continuum = np.concatenate((cont1[:3400], cont2[3400:6250], cont3[6250:]))\n",
    "\n",
    "    return continuum\n",
    "\n",
    "# Function to continuum normalize a list of spectra\n",
    "def continuum_normalize(flux, ivar):\n",
    "    continuums = np.array([ _cn(f) for f in tqdm.tqdm(flux) ])[:,range(len(flux[0]))]\n",
    "    return flux/continuums, ivar*continuums**2"
   ]
  },
  {
   "cell_type": "code",
   "execution_count": null,
   "id": "71a66058-279e-49e1-8f58-9fd4ca831da1",
   "metadata": {},
   "outputs": [],
   "source": [
    "norm_flux, norm_ivar = continuum_normalize(ds.flux, ds.ivar)"
   ]
  },
  {
   "cell_type": "code",
   "execution_count": null,
   "id": "112b7f2b-471d-4626-85c0-97601f525202",
   "metadata": {},
   "outputs": [],
   "source": []
  },
  {
   "cell_type": "code",
   "execution_count": null,
   "id": "f4f9bcee-f2e0-473d-ab8f-2745c5cd62f7",
   "metadata": {},
   "outputs": [],
   "source": [
    "\n",
    "plt.figure(figsize=(12,4))\n",
    "\n",
    "_ = plt.plot(ds.wave, norm_flux.T, alpha=0.02,  color='black')\n",
    "plt.ylim(0.4, 1.2)"
   ]
  },
  {
   "cell_type": "code",
   "execution_count": null,
   "id": "05715f41-88cd-47b1-ae78-389755b4fff3",
   "metadata": {},
   "outputs": [],
   "source": []
  }
 ],
 "metadata": {
  "kernelspec": {
   "display_name": "Python 3 (ipykernel)",
   "language": "python",
   "name": "python3"
  },
  "language_info": {
   "codemirror_mode": {
    "name": "ipython",
    "version": 3
   },
   "file_extension": ".py",
   "mimetype": "text/x-python",
   "name": "python",
   "nbconvert_exporter": "python",
   "pygments_lexer": "ipython3",
   "version": "3.11.3"
  }
 },
 "nbformat": 4,
 "nbformat_minor": 5
}

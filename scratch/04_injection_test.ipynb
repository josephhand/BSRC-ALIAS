{
 "cells": [
  {
   "cell_type": "markdown",
   "id": "ca919c98-ce30-406d-9de7-4f70cc958b96",
   "metadata": {},
   "source": [
    "# Injection Testing\n",
    "\n",
    "Injection testing is a process of testing a signal detection algorithm by simulating what the signal would look like in context and then running the algorithm on it to determine if it is able to recover the signal and how accurately it can characterize it. ALIAS is a great candidate for this style of testing since it is trying to detect signals that are fairly easy to impliment."
   ]
  },
  {
   "cell_type": "code",
   "execution_count": 1,
   "id": "5cc7e341-0da1-464f-828a-ed9bf294ad4c",
   "metadata": {},
   "outputs": [
    {
     "name": "stderr",
     "output_type": "stream",
     "text": [
      "/mnt_home/jhand/alias/alias/__init__.py:32: TqdmExperimentalWarning: Using `tqdm.autonotebook.tqdm` in notebook mode. Use `tqdm.tqdm` instead to force console mode (e.g. in jupyter console)\n",
      "  import tqdm.autonotebook as tqdm\n"
     ]
    }
   ],
   "source": [
    "import alias\n",
    "\n",
    "import matplotlib.pyplot as plt\n",
    "import matplotlib.gridspec as gridspec\n",
    "import scipy.signal\n",
    "\n",
    "import numpy as np\n",
    "from astropy.io import fits\n",
    "\n",
    "import random as rand\n",
    "\n",
    "import tqdm.autonotebook as tqdm"
   ]
  },
  {
   "cell_type": "code",
   "execution_count": 2,
   "id": "1ef4c652-fedc-4f41-ada6-02679a804d58",
   "metadata": {},
   "outputs": [],
   "source": [
    "plt.rcParams.update({'font.size': 10})"
   ]
  },
  {
   "cell_type": "code",
   "execution_count": 3,
   "id": "48cf18a1-cae6-4bc2-9c9c-1d83ce3b6b9a",
   "metadata": {},
   "outputs": [
    {
     "ename": "AttributeError",
     "evalue": "module 'alias' has no attribute 'loadDataset'",
     "output_type": "error",
     "traceback": [
      "\u001b[0;31m---------------------------------------------------------------------------\u001b[0m",
      "\u001b[0;31mAttributeError\u001b[0m                            Traceback (most recent call last)",
      "Cell \u001b[0;32mIn[3], line 6\u001b[0m\n\u001b[1;32m      2\u001b[0m     urls \u001b[38;5;241m=\u001b[39m f\u001b[38;5;241m.\u001b[39mread()\u001b[38;5;241m.\u001b[39msplitlines()\n\u001b[1;32m      4\u001b[0m files \u001b[38;5;241m=\u001b[39m [ \u001b[38;5;124m'\u001b[39m\u001b[38;5;124m../data/spectra/\u001b[39m\u001b[38;5;132;01m%s\u001b[39;00m\u001b[38;5;124m'\u001b[39m \u001b[38;5;241m%\u001b[39murl\u001b[38;5;241m.\u001b[39msplit(\u001b[38;5;124m'\u001b[39m\u001b[38;5;124m/\u001b[39m\u001b[38;5;124m'\u001b[39m)[\u001b[38;5;241m-\u001b[39m\u001b[38;5;241m1\u001b[39m] \u001b[38;5;28;01mfor\u001b[39;00m url \u001b[38;5;129;01min\u001b[39;00m urls ]\n\u001b[0;32m----> 6\u001b[0m ds \u001b[38;5;241m=\u001b[39m \u001b[43malias\u001b[49m\u001b[38;5;241;43m.\u001b[39;49m\u001b[43mloadDataset\u001b[49m(files)\n",
      "\u001b[0;31mAttributeError\u001b[0m: module 'alias' has no attribute 'loadDataset'"
     ]
    }
   ],
   "source": [
    "with open('../data/sample_star_urls', 'r') as f:\n",
    "    urls = f.read().splitlines()\n",
    "\n",
    "files = [ '../data/spectra/%s' %url.split('/')[-1] for url in urls ]\n",
    "\n",
    "ds = alias.loadDataset(files)"
   ]
  },
  {
   "cell_type": "code",
   "execution_count": null,
   "id": "5983f233-321e-4f07-805b-86089efcdc68",
   "metadata": {},
   "outputs": [],
   "source": [
    "ds = alias.continuum_normalize(ds)"
   ]
  },
  {
   "cell_type": "code",
   "execution_count": null,
   "id": "0c206ce8-0d5b-4ba5-a1d5-a6fd2d0c872d",
   "metadata": {},
   "outputs": [],
   "source": [
    "# Plot sample laser signature\n",
    "\n",
    "lsf = alias.default_lsf\n",
    "\n",
    "test_laser_signature = np.interp(np.array(range(len(ds.wave)))-4500, lsf.x, lsf.y)\n",
    "\n",
    "plt.figure(figsize=(12,4))\n",
    "\n",
    "plt.plot(ds.wave, test_laser_signature)\n",
    "\n",
    "plt.xlabel(r'$\\lambda$ ($\\AA$)')\n",
    "plt.ylabel(r'Relative Flux')\n",
    "\n",
    "plt.tight_layout()"
   ]
  },
  {
   "cell_type": "code",
   "execution_count": null,
   "id": "5b11b88b-3fba-4e16-a230-c4ebda4b239b",
   "metadata": {},
   "outputs": [],
   "source": [
    "# Zoom in on signature\n",
    "\n",
    "plt.rcParams.update({'font.size': 10})\n",
    "\n",
    "plt.figure(figsize=(6,4))\n",
    "\n",
    "plt.plot(ds.wave, test_laser_signature)\n",
    "\n",
    "plt.xlim(16060, 16080)\n",
    "\n",
    "plt.xlabel(r'$\\lambda$ ($\\AA$)')\n",
    "plt.ylabel(r'Relative Flux')\n",
    "\n",
    "plt.tight_layout()"
   ]
  },
  {
   "cell_type": "code",
   "execution_count": null,
   "id": "9db31221-6af6-4b09-8e73-b484257812ff",
   "metadata": {},
   "outputs": [],
   "source": [
    "# Inject the signature\n",
    "\n",
    "\n",
    "flux_injected = ds.flux[101] + 0.3 * np.nanmedian(ds.flux[101]) * test_laser_signature\n",
    "ivar_injected = ds.ivar[101]\n",
    "\n",
    "fig = plt.figure(figsize=(6,5))\n",
    "\n",
    "gs = gridspec.GridSpec(2, 1, hspace=0.2)\n",
    "\n",
    "ax1 = fig.add_subplot(gs[0])\n",
    "\n",
    "ax1.plot(ds.wave, flux_injected)\n",
    "\n",
    "ax1.plot([ds.wave[4500],]*2, (0,2), ls='dotted')\n",
    "\n",
    "ax1.set_ylim(0.4, 1.4)\n",
    "\n",
    "ax1.set_ylabel(r'Relative Flux')\n",
    "\n",
    "\n",
    "\n",
    "ax2 = fig.add_subplot(gs[1])\n",
    "\n",
    "ax2.plot(ds.wave, flux_injected, '.-')\n",
    "\n",
    "ax2.plot([ds.wave[4500],]*2, (0,2), ls='dotted')\n",
    "\n",
    "ax2.set_ylim(0.4, 1.4)\n",
    "ax2.set_xlim(ds.wave[4500]-1.5, ds.wave[4500]+1.5)\n",
    "\n",
    "ax2.set_xlabel(r'$\\lambda$ ($\\AA$)')\n",
    "ax2.set_ylabel(r'Relative Flux')\n"
   ]
  },
  {
   "cell_type": "code",
   "execution_count": null,
   "id": "d50d5d7d-684c-4ebe-872c-336feba0733a",
   "metadata": {},
   "outputs": [],
   "source": [
    "# Now start the detection process\n",
    "\n",
    "# Continuum normalize the spectrum\n",
    "\n",
    "\n",
    "plt.figure(figsize=(12,4))\n",
    "\n",
    "plt.plot(ds.wave, flux_injected)\n",
    "\n",
    "plt.xlabel(r'$\\lambda$ ($\\AA$)')\n",
    "plt.ylabel(r'Relative Flux')\n",
    "\n",
    "plt.tight_layout()"
   ]
  },
  {
   "cell_type": "code",
   "execution_count": null,
   "id": "4dab8a7a-1f0b-416a-b635-a948b319d9d2",
   "metadata": {},
   "outputs": [],
   "source": [
    "plt.plot(ds.wave, flux_injected)\n",
    "\n",
    "plt.xlim(16060, 16080)\n",
    "\n",
    "plt.xlabel(r'$\\lambda$ ($\\AA$)')\n",
    "plt.ylabel(r'Relative Flux')\n",
    "\n",
    "plt.tight_layout()"
   ]
  },
  {
   "cell_type": "code",
   "execution_count": null,
   "id": "305876b9-bfe5-45d6-9de6-bff6a2baa90e",
   "metadata": {},
   "outputs": [],
   "source": [
    "peaks = scipy.signal.find_peaks(flux_injected, height = 1.1)[0]\n",
    "\n",
    "recovered_wavelength = ds.wave[peaks[0]]\n",
    "recovered_flux = flux_injected[peaks[0]] - 1\n",
    "\n",
    "print('Recovered Wavelength: %s' %recovered_wavelength)\n",
    "print('Recovered Amplitude: %s' %recovered_flux)"
   ]
  },
  {
   "cell_type": "code",
   "execution_count": null,
   "id": "7c06630e-a97e-44e9-98a6-482de4aac8fd",
   "metadata": {},
   "outputs": [],
   "source": [
    "print('Delta lambda: %s' %(recovered_wavelength - ds.wave[4500]))\n",
    "print('Delta flux: %s' %(recovered_flux - 0.3))"
   ]
  },
  {
   "cell_type": "code",
   "execution_count": null,
   "id": "95495adf-e0b4-470e-bac3-8b2eaa8efa2b",
   "metadata": {},
   "outputs": [],
   "source": [
    "# Implement Injection Testing Framework\n",
    "\n",
    "def create_laser_signature(wave, lsf, idx):\n",
    "    line = np.interp(np.array(range(len(wave)))-idx, lsf.x, lsf.y)\n",
    "    return line\n",
    "\n",
    "def injection_test(ds, lsf, detector, count, min_amp, max_amp):\n",
    "    results = []\n",
    "\n",
    "    for i in tqdm.trange(count):\n",
    "        \n",
    "        spec = rand.randrange(len(ds.flux))\n",
    "        valid_idx = np.nonzero(~np.isnan(ds.flux[spec]))[0]\n",
    "        idx_int = np.random.choice(valid_idx)\n",
    "        idx = idx_int + np.random.uniform(-0.5, 0.5)\n",
    "        wave = np.interp(idx, range(len(ds.wave)), ds.wave)\n",
    "        amp = np.random.uniform(min_amp, max_amp)\n",
    "\n",
    "        nflux = np.copy(ds.flux[spec])\n",
    "        nflux += create_laser_signature(ds.wave, lsf, idx)*amp\n",
    "        \n",
    "        detections = detector(ds.wave, nflux, ds.ivar[spec])\n",
    "\n",
    "        if len(detections) == 0:\n",
    "            results.append((spec, idx, amp, 0, 0, 0, 0))\n",
    "            continue\n",
    "\n",
    "        detection_wavelengths = detections[:,0]\n",
    "        detection_amplitudes = detections[:,1]\n",
    "\n",
    "        detec_id = np.argmin(np.abs(detection_wavelengths - wave))\n",
    "        delta_wave = detection_wavelengths[detec_id] - wave\n",
    "\n",
    "        if np.abs(delta_wave) > 1:\n",
    "            results.append((spec, idx, amp, 0, 0, 0, len(detections)))\n",
    "            continue\n",
    "        \n",
    "        delta_flux = detection_amplitudes[detec_id] - amp\n",
    "        results.append((spec, idx, amp, 1, delta_wave, delta_flux, len(detections) - 1))\n",
    "\n",
    "    return np.array(results, dtype=float)\n",
    "\n",
    "# Result structure: Spectrum id, injected wavelength, injected flux, detected?, delta wavelength, delta flux, num other detections\n",
    "        "
   ]
  },
  {
   "cell_type": "code",
   "execution_count": null,
   "id": "41b0dd93-8e37-4074-9209-c9431298603f",
   "metadata": {},
   "outputs": [],
   "source": [
    "# Run detector\n",
    "\n",
    "norm_flux_masked = np.ma.filled(np.ma.MaskedArray(ds.flux, mask=ds.flux<0.01), np.nan)\n",
    "median_flux = np.nanmedian(norm_flux_masked, axis=0)\n",
    "\n",
    "print(median_flux)"
   ]
  },
  {
   "cell_type": "code",
   "execution_count": null,
   "id": "90465ce7-bdd5-4a36-9575-ee3881e798b6",
   "metadata": {},
   "outputs": [],
   "source": [
    "plt.figure(figsize=(6,3))\n",
    "\n",
    "plt.plot(ds.wave, median_flux, label='Median Continuum-Normalized Spectrum')\n",
    "\n",
    "plt.xlabel(r'$\\lambda$ ($\\AA$)')\n",
    "plt.ylabel(r'Relative Flux')\n",
    "\n",
    "plt.legend()\n",
    "\n",
    "plt.tight_layout()"
   ]
  },
  {
   "cell_type": "code",
   "execution_count": null,
   "id": "93105dcc-31f3-441d-a8f4-99b041c7e811",
   "metadata": {},
   "outputs": [],
   "source": [
    "n = 5\n",
    "\n",
    "f_residual = alias.continuum_normalize(alias.Dataset(ds.wave, (ds.flux[n],), (ds.ivar[n],))).flux[0] - median_flux\n",
    "\n",
    "plt.figure(figsize=(6,3))\n",
    "\n",
    "plt.plot(ds.wave, f_residual, label='Median Continuum-Normalized Spectrum')\n",
    "plt.ylim(-0.4, 0.4)\n",
    "\n",
    "plt.xlabel(r'$\\lambda$ ($\\AA$)')\n",
    "plt.ylabel(r'Relative Flux')\n",
    "\n",
    "plt.tight_layout()"
   ]
  },
  {
   "cell_type": "code",
   "execution_count": null,
   "id": "be110ac4-c733-4aa3-a8b3-3421cb45f0db",
   "metadata": {},
   "outputs": [],
   "source": [
    "def test_detector(wave, flux, ivar):\n",
    "        \n",
    "    flux_norm_res = flux - median_flux\n",
    "    peaks = scipy.signal.find_peaks(flux_norm_res, height = 0.05)[0]\n",
    "    wavelengths = wave[peaks]\n",
    "    amplitudes = flux_norm_res[peaks]\n",
    "    return np.array((wavelengths, amplitudes)).T"
   ]
  },
  {
   "cell_type": "code",
   "execution_count": null,
   "id": "2608f7d8-3429-4a21-bb44-6fce1b5fd69b",
   "metadata": {},
   "outputs": [],
   "source": [
    "features = test_detector(ds.wave, ds.flux[0], ds.ivar[0])\n",
    "\n",
    "plt.figure(figsize=(6,3))\n",
    "\n",
    "plt.plot(ds.wave, ds.flux[0])\n",
    "plt.plot(features[:,0], ds.flux[0][np.array(np.interp(features[:,0], ds.wave, range(len(ds.wave))), dtype=int)], '.', color='red')\n",
    "\n",
    "plt.xlabel(r'$\\lambda$ ($\\AA$)')\n",
    "plt.ylabel(r'Relative Flux')\n",
    "\n",
    "_ = plt.tight_layout()"
   ]
  },
  {
   "cell_type": "code",
   "execution_count": null,
   "id": "78f03d66-3a99-44cc-b422-79a5fa4349b7",
   "metadata": {},
   "outputs": [],
   "source": [
    "results = injection_test(ds, alias.default_lsf, test_detector, 5000, 0.01, 0.5)"
   ]
  },
  {
   "cell_type": "code",
   "execution_count": null,
   "id": "65055084-60e3-4732-9598-b62d56e6674e",
   "metadata": {},
   "outputs": [],
   "source": [
    "# Now interpret results\n",
    "\n",
    "print('Efficiency: %s%%' %(100*sum(results[:,3])/len(results)))\n",
    "print('Other Detections: %s/spectrum' %np.mean(results[:,6]))"
   ]
  },
  {
   "cell_type": "code",
   "execution_count": null,
   "id": "2d10d57f-39a0-4a31-a45b-ac2370aaf584",
   "metadata": {},
   "outputs": [],
   "source": [
    "def show_result(ds, lsf, detector, result):    \n",
    "    plt.figure(figsize=(12,4))\n",
    "    spec = int(result[0])\n",
    "    flux_inj = ds.flux[spec] + create_laser_signature(ds.wave, lsf, result[1]) * result[2]\n",
    "    wave = np.interp(result[1], range(len(ds.wave)), ds.wave)\n",
    "\n",
    "    detections = detector(ds.wave, flux_inj, ds.ivar[spec])\n",
    "    \n",
    "    plt.plot(ds.wave, flux_inj, label='Injected Spectrum')\n",
    "    plt.plot(ds.wave, ds.flux[spec], label='Original Spectrum')\n",
    "    plt.scatter(detections[:,0], detections[:,1] + 1)\n",
    "\n",
    "    plt.xlim(wave - 15, wave + 15)\n",
    "        \n",
    "    plt.xlabel(r'$\\lambda$ ($\\AA$)')\n",
    "    plt.ylabel(r'Relative Flux')\n",
    "    \n",
    "    plt.tight_layout()"
   ]
  },
  {
   "cell_type": "code",
   "execution_count": null,
   "id": "9f6485d3-0efb-4095-b763-7d1292571377",
   "metadata": {},
   "outputs": [],
   "source": [
    "show_result(ds, alias.default_lsf, test_detector, results[47])"
   ]
  },
  {
   "cell_type": "code",
   "execution_count": null,
   "id": "ebfc28f9-9b15-40a7-84d8-4621395535f8",
   "metadata": {},
   "outputs": [],
   "source": [
    "_ = plt.hist(results[results[:,3] > 0.5,4], bins=30)\n",
    "\n",
    "plt.xlabel('$\\Delta\\lambda$ ($\\AA$)')\n",
    "plt.ylabel('Number of Detections')"
   ]
  },
  {
   "cell_type": "code",
   "execution_count": null,
   "id": "2e4b50e8-8d07-4f4c-af14-fd68279dd672",
   "metadata": {},
   "outputs": [],
   "source": [
    "import matplotlib.gridspec as gridspec\n",
    "\n",
    "fig = plt.figure()\n",
    "\n",
    "gs = gridspec.GridSpec(1, 2, wspace=0)\n",
    "\n",
    "ax1 = fig.add_subplot(gs[0])\n",
    "ax2 = fig.add_subplot(gs[1])\n",
    "\n",
    "ax1.hist(results[results[:,3] > 0.5,4], bins=60)\n",
    "\n",
    "ax1.set_ylim(0, 1300)\n",
    "ax1.set_xlim(-1.2, 1.2)\n",
    "\n",
    "ax1.set_xlabel('$\\Delta\\lambda$ ($\\AA$)')\n",
    "ax1.set_ylabel('Number of Detections')\n",
    "\n",
    "ax2.hist(results[results[:,3] > 0.5,5], bins=60)\n",
    "ax2.set_ylim(0, 1300)\n",
    "ax2.set_yticks([])\n",
    "\n",
    "ax2.set_xlabel('$\\Delta Flux$')\n",
    "\n",
    "fig.set_figwidth(6)\n",
    "fig.set_figheight(3)\n",
    "\n"
   ]
  },
  {
   "cell_type": "code",
   "execution_count": null,
   "id": "cf44a40e-97e3-40a9-89d1-579ae2a409bc",
   "metadata": {},
   "outputs": [],
   "source": [
    "_ = plt.hist(results[results[:,3] > 0.5,5], bins=30)\n",
    "\n",
    "plt.xlabel('$\\Delta$Flux')\n",
    "plt.ylabel('Number of Detections')"
   ]
  },
  {
   "cell_type": "code",
   "execution_count": null,
   "id": "d60763ca-a040-4eda-8e51-9c486cad1891",
   "metadata": {},
   "outputs": [],
   "source": [
    "bins = np.linspace(0, 0.5, 30)\n",
    "all = np.histogram(results[:,2], bins=bins)[0]\n",
    "detected = np.histogram(results[results[:,3] > 0.5,2], bins=bins)[0]\n",
    "\n",
    "plt.figure(figsize=(6,4))\n",
    "\n",
    "plt.plot(bins[:-1], 100*detected/all)\n",
    "\n",
    "plt.xlabel('LASER Flux (Fraction of Star Flux)')\n",
    "_ = plt.ylabel(r'Efficiency (%)')"
   ]
  },
  {
   "cell_type": "code",
   "execution_count": null,
   "id": "f399076f-83d9-42ea-bfa9-def53e0e5243",
   "metadata": {},
   "outputs": [],
   "source": [
    "plt.figure(figsize=(12,4))\n",
    "bins = np.linspace(np.min(ds.wave), np.max(ds.wave), 300)\n",
    "all = np.histogram(ds.wave[np.array(results[:,1], dtype=int)], bins=bins)[0]\n",
    "detected = np.histogram(ds.wave[np.array(results[results[:,3] > 0.5,1], dtype=int)], bins=bins)[0]\n",
    "\n",
    "plt.plot(bins[:-1], detected/all)\n",
    "\n",
    "plt.xlabel('$\\lambda$ ($\\AA$)')\n",
    "plt.ylabel(r'Efficiency (%)')"
   ]
  },
  {
   "cell_type": "code",
   "execution_count": null,
   "id": "fe79b3b7-6cbb-49e4-9d65-19cc753563d7",
   "metadata": {},
   "outputs": [],
   "source": [
    "plt.figure(figsize=(12,4))\n",
    "plt.hist2d(ds.wave[np.array(results[results[:,3] > 0.5,1],dtype=int)], results[results[:,3] > 0.5,4], bins=(80, 40))\n",
    "plt.xlabel('$\\lambda$ ($\\AA$)')\n",
    "plt.ylabel('$\\Delta\\lambda$ ($\\AA$)')"
   ]
  },
  {
   "cell_type": "code",
   "execution_count": null,
   "id": "155bff0b-0f43-4dfd-b04a-ca53be765199",
   "metadata": {},
   "outputs": [],
   "source": [
    "plt.figure(figsize=(12,4))\n",
    "plt.scatter(ds.wave[np.array(results[results[:,3] > 0.5,1],dtype=int)], results[results[:,3] > 0.5,4], s=3)\n",
    "plt.xlabel('$\\lambda$ ($\\AA$)')\n",
    "plt.ylabel('$\\Delta\\lambda$ ($\\AA$)')"
   ]
  }
 ],
 "metadata": {
  "kernelspec": {
   "display_name": "Python 3 (ipykernel)",
   "language": "python",
   "name": "python3"
  },
  "language_info": {
   "codemirror_mode": {
    "name": "ipython",
    "version": 3
   },
   "file_extension": ".py",
   "mimetype": "text/x-python",
   "name": "python",
   "nbconvert_exporter": "python",
   "pygments_lexer": "ipython3",
   "version": "3.11.3"
  }
 },
 "nbformat": 4,
 "nbformat_minor": 5
}

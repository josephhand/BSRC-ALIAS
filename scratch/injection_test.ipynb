{
 "cells": [
  {
   "cell_type": "markdown",
   "id": "13547eb6-c597-4efc-82d4-3ce79ff1ab0a",
   "metadata": {},
   "source": [
    "# Injection Testing\n",
    "\n",
    "The `alias.injection` submodule provides tools for testing various methods of detecting anomalous emmision lines in spectra.\n",
    "\n",
    "The module contains the `injection_test` function, which performs a given number of these individual tests and returns their results for analysis. The proper usage of this function is demontrated below.\n",
    "\n",
    "Before running injection tests, the following steps must be completed:\n",
    "\n",
    "- Creating (or loading) a dataset\n",
    "- Defining the detection logic"
   ]
  },
  {
   "cell_type": "code",
   "execution_count": 1,
   "id": "32e6ca23-9329-4680-a4a4-da0aa9f3c896",
   "metadata": {},
   "outputs": [
    {
     "name": "stderr",
     "output_type": "stream",
     "text": [
      "/mnt_home/jhand/alias/alias/injection.py:26: TqdmExperimentalWarning: Using `tqdm.autonotebook.tqdm` in notebook mode. Use `tqdm.tqdm` instead to force console mode (e.g. in jupyter console)\n",
      "  import tqdm.autonotebook as tqdm\n"
     ]
    }
   ],
   "source": [
    "# Import needed libraries\n",
    "\n",
    "import alias\n",
    "import alias.injection as inj\n",
    "\n",
    "import numpy as np\n",
    "import matplotlib.pyplot as plt"
   ]
  },
  {
   "cell_type": "markdown",
   "id": "2c52203f-7417-44c9-af89-31aa25c230ea",
   "metadata": {},
   "source": [
    "## Creating a Dataset\n",
    "\n",
    "First we must create a dataset to test with, contained in a `Dataset` object. In this case, we are creating a spectrum consisting of 8000 datapoints, each with a relative flux value of 1+/-0.01.\n",
    "\n",
    "Alternatively, a dataset can be loaded from a collection of fits files using the `load_dataset` function of the `alias` module."
   ]
  },
  {
   "cell_type": "code",
   "execution_count": 2,
   "id": "64d1c717-7609-437f-8bf9-2cf35f00227a",
   "metadata": {},
   "outputs": [],
   "source": [
    "wave = np.array(range(0, 8000), dtype=float)\n",
    "flux = np.array([[1.0]*8000], dtype=float)\n",
    "ivar = np.array([[10000.0]*8000], dtype=float)\n",
    "\n",
    "ds = alias.Dataset(wave, flux, ivar)"
   ]
  },
  {
   "cell_type": "markdown",
   "id": "8f37fa1d-42fd-47ee-aff1-302e0bb9f093",
   "metadata": {},
   "source": [
    "## Defining the Detection Function\n",
    "\n",
    "The last step before running the test is creating a function containing the logic of our detection method must be written. This function is required to take three parameters, the wavelength array, the flux array, and the inverse-variance array. It is not required to use all of them, but it must accept them. The function can assume that these arrays are all the same length.\n",
    "\n",
    "The function must also return an array of the same length as the three inputs. This array is interpretted as a \"weirdness\" metric, with higher values corresponding to datapoints more likely to be part of an anomalous emission line.\n",
    "\n",
    "When computing the results, the tester considers a weirdness value of more than one to be a detection. If there is at least one such detection within 3 pixels of the injected line, the tester considers the line to have been successfully detected. The tester does not reward multiple detections in this range. Any detections outside this range are considered false positives."
   ]
  },
  {
   "cell_type": "code",
   "execution_count": 3,
   "id": "669e1fee-3ea9-480f-8b21-129e75886f88",
   "metadata": {},
   "outputs": [],
   "source": [
    "def test_detector(wave, flux, ivar):\n",
    "    # Very simple, totally not useful detection method that happens to work fairly well with flat spectra.\n",
    "    return flux - 0.01"
   ]
  },
  {
   "cell_type": "markdown",
   "id": "ce5c7ae0-ccfc-4452-873f-428fac58ba78",
   "metadata": {},
   "source": [
    "## Running the Test\n",
    "\n",
    "Now that all the prerequisites are finished, the tests can be actually run. This is done using the `injection_test` method provided by the `alias.injection` submodule.\n",
    "\n",
    "The function takes the following as parameters:\n",
    "\n",
    "- A dataset\n",
    "- A line-spread function\n",
    "- The detection logic\n",
    "- The number of tests to run\n",
    "- The minimum amplitude of injected lines\n",
    "- The maximum amplitude\n",
    "\n",
    "The `injection` submodule provides the `defaultLSF` variable to use for the line-spread function, but a different one can be used if desired. The remaining parameters are fairly self-explanatory."
   ]
  },
  {
   "cell_type": "code",
   "execution_count": 4,
   "id": "5a962db5-4ebb-49e0-85a3-c28736429c54",
   "metadata": {},
   "outputs": [],
   "source": [
    "results = inj.injection_test(ds, inj.defaultLSF, test_detector, 500, 0.01, 0.1)"
   ]
  },
  {
   "cell_type": "markdown",
   "id": "67e63023-05c8-49e2-8383-db6d0ce35129",
   "metadata": {},
   "source": [
    "## Interpreting the Results\n",
    "\n",
    "The injection_test returns a two-dimensional array with the results of the tests. Each row of the array corresponds to each test performed. The columns contain the following:\n",
    "\n",
    "- The index of the spectrum usind for the test\n",
    "- The wavelegnth at which the line was injected\n",
    "- The amplitude of the injected line\n",
    "- Whether the detection was successful\n",
    "- The number of false positives\n",
    "\n",
    "Using this data, various metrics of the detector's performance can be guaged:\n",
    "\n",
    "- How often it successfully identifies the injected line (it's sensitivity)\n",
    "- How often it falsely labels normal features as anomalous\n",
    "\n",
    "Additionally, these performance metrics can be plotted as a function of wavelength and the spectrum used, to identify individual spectra or regions of spectra that cause issues for the detector."
   ]
  },
  {
   "cell_type": "code",
   "execution_count": 5,
   "id": "3e2afd0f-b211-47e0-801e-739b0b3009cc",
   "metadata": {},
   "outputs": [
    {
     "name": "stdout",
     "output_type": "stream",
     "text": [
      "Sensitivity: 99.40%\n",
      "Efficiency: 0.006/spectrum\n"
     ]
    }
   ],
   "source": [
    "print('Sensitivity: %.2f%%' %(100*sum(results[:,3] == True)/len(results)))\n",
    "print('Efficiency: %.3f/spectrum' %np.mean(results[:,4]))"
   ]
  },
  {
   "cell_type": "markdown",
   "id": "d45a91a5-bd2a-4926-b07c-022af2833949",
   "metadata": {},
   "source": [
    "As you can see, this method works very well on simple flat spectra, as it can detect 99.8% of the injected lines, while never producing a false positive.\n",
    "\n",
    "It goes without saying that this method only works on these flat spectra. We can demonstrate this by loading an actual dataset and re-running the test."
   ]
  },
  {
   "cell_type": "code",
   "execution_count": 6,
   "id": "837c32c9-eba0-41e4-84ca-71bca0864b5c",
   "metadata": {},
   "outputs": [
    {
     "name": "stderr",
     "output_type": "stream",
     "text": [
      "/mnt_home/jhand/alias/alias/__init__.py:58: RuntimeWarning: divide by zero encountered in power\n",
      "  spec_ivar_parts = np.array(hdul[2].data)**-2\n"
     ]
    },
    {
     "name": "stdout",
     "output_type": "stream",
     "text": [
      "Sensitivity: 65.00%\n",
      "Efficiency: 3745.380/spectrum\n"
     ]
    }
   ],
   "source": [
    "with open('../data/sample_star_urls_rev2', 'r') as f:\n",
    "    urls = f.read().splitlines()\n",
    "\n",
    "files = [ '../data/spectra_rev2/%s' %url.split('/')[-1] for url in urls ]\n",
    "\n",
    "ds_real = alias.loadDataset(files)\n",
    "\n",
    "results = inj.injection_test(ds_real, inj.defaultLSF, test_detector, 500, 0.01, 0.1)\n",
    "\n",
    "print('Sensitivity: %.2f%%' %(100*sum(results[:,3] > 0.5)/len(results)))\n",
    "print('Efficiency: %.3f/spectrum' %np.mean(results[:,4]))"
   ]
  },
  {
   "cell_type": "markdown",
   "id": "fe45c3ee-772f-4b08-902d-3cdbf9ff11a3",
   "metadata": {},
   "source": [
    "Further analysis can be performed by, for example, looking at the regions of the spectrum where the detector had difficulty recovering the injected line. "
   ]
  },
  {
   "cell_type": "code",
   "execution_count": 7,
   "id": "a2d9e3b9-f443-4bb7-87d7-7ebdce52fff8",
   "metadata": {},
   "outputs": [
    {
     "data": {
      "image/png": "[encoded data removed]",
      "text/plain": [
       "<Figure size 1200x400 with 1 Axes>"
      ]
     },
     "metadata": {},
     "output_type": "display_data"
    }
   ],
   "source": [
    "bins = np.linspace(np.min(ds_real.wave), np.max(ds_real.wave), 15)\n",
    "\n",
    "plt.figure(figsize=(12,4))\n",
    "\n",
    "plt.hist(results[:,1], bins=bins, color='maroon', label='Failed detections')\n",
    "plt.hist(results[results[:,3] > 0.5,1], bins=bins, color='green', label='Successfull detections')\n",
    "\n",
    "plt.xlabel(r'$\\lambda$ ($\\AA$)')\n",
    "plt.ylabel(r'# of tests')\n",
    "_ = plt.legend()"
   ]
  },
  {
   "cell_type": "markdown",
   "id": "669d668d-0b75-46ea-8088-658b81c6ccc6",
   "metadata": {},
   "source": [
    "As can be seen in the above figure, the detection method is more sensitive for shorter wavelengths, but much less sensitive at longer wavelengths.\n",
    "\n",
    "Note that this does not necessarily mean the method works well at shorter wavelengths, as it is likely not very efficient at these wavelengths."
   ]
  }
 ],
 "metadata": {
  "kernelspec": {
   "display_name": "Python 3 (ipykernel)",
   "language": "python",
   "name": "python3"
  },
  "language_info": {
   "codemirror_mode": {
    "name": "ipython",
    "version": 3
   },
   "file_extension": ".py",
   "mimetype": "text/x-python",
   "name": "python",
   "nbconvert_exporter": "python",
   "pygments_lexer": "ipython3",
   "version": "3.11.3"
  }
 },
 "nbformat": 4,
 "nbformat_minor": 5
}

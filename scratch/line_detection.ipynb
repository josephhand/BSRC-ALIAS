{
 "cells": [
  {
   "cell_type": "code",
   "execution_count": 1,
   "id": "23514cb0-64e6-4048-957b-1d6464336d95",
   "metadata": {},
   "outputs": [],
   "source": [
    "# Load required modules\n",
    "\n",
    "import numpy as np\n",
    "import pandas\n",
    "import matplotlib.pyplot as plt\n",
    "from astropy.table import Table\n",
    "from astropy.io import fits\n",
    "\n",
    "import scipy.signal\n",
    "\n",
    "import random as rand\n",
    "\n",
    "%matplotlib inline"
   ]
  },
  {
   "cell_type": "code",
   "execution_count": 2,
   "id": "e7524f4f-f522-4fa7-ac32-e9aa1c928c40",
   "metadata": {},
   "outputs": [],
   "source": [
    "# Class to easily load and plot APOGEE spectra\n",
    "\n",
    "class APOGEESpec:\n",
    "    def __init__(self, url):\n",
    "        hdul = fits.open(url)\n",
    "\n",
    "        self.flux_decomp = np.array(hdul[1].data)\n",
    "        self.flux_err_decomp = np.array(hdul[2].data)\n",
    "\n",
    "        self.flux = np.average(self.flux_decomp, axis=0, weights=self.flux_err_decomp**-2)\n",
    "        self.flux_err = 1/np.sqrt(np.sum(self.flux_err_decomp**-2, axis=0))\n",
    "        norm = np.nanmedian(self.flux)\n",
    "        self.flux /= norm\n",
    "        self.flux_err /= norm\n",
    "        \n",
    "        self.sky = hdul[5].data\n",
    "        self.sky_err = hdul[6].data\n",
    "        \n",
    "        self.wave = 10**(hdul[1].header['CRVAL1'] + (hdul[1].header['CDELT1'] * np.arange(hdul[1].data.shape[1])))\n",
    "\n",
    "    def plot(self, d=-1, ax=plt, errors=False, err_mul=1, **kwargs):\n",
    "        if d==-1:\n",
    "            f = self.flux\n",
    "            err = self.flux_err\n",
    "        else:\n",
    "            f = self.flux_decomp[d]\n",
    "            err = self.flux_err_decomp[d]\n",
    "            \n",
    "        if errors:\n",
    "            ax.fill_between(self.wave, f - err*err_mul, f + err*err_mul, **kwargs)\n",
    "        else:\n",
    "            ax.plot(self.wave, f, **kwargs)"
   ]
  },
  {
   "cell_type": "code",
   "execution_count": 3,
   "id": "b7313082-9999-45c3-a8f6-37139b3e9ac2",
   "metadata": {},
   "outputs": [
    {
     "name": "stderr",
     "output_type": "stream",
     "text": [
      "/tmp/ipykernel_885126/4275754558.py:10: RuntimeWarning: divide by zero encountered in power\n",
      "  self.flux = np.average(self.flux_decomp, axis=0, weights=self.flux_err_decomp**-2)\n",
      "/home/jhand/.conda/envs/dev/lib/python3.11/site-packages/numpy/lib/function_base.py:551: RuntimeWarning: invalid value encountered in multiply\n",
      "  avg = avg_as_array = np.multiply(a, wgt,\n",
      "/tmp/ipykernel_885126/4275754558.py:11: RuntimeWarning: divide by zero encountered in power\n",
      "  self.flux_err = 1/np.sqrt(np.sum(self.flux_err_decomp**-2, axis=0))\n",
      "/home/jhand/.conda/envs/dev/lib/python3.11/site-packages/numpy/lib/nanfunctions.py:1217: RuntimeWarning: All-NaN slice encountered\n",
      "  return function_base._ureduce(a, func=_nanmedian, keepdims=keepdims,\n"
     ]
    }
   ],
   "source": [
    "# Open all spectra into APOGEESPec objects\n",
    "\n",
    "with open('../data/sample_star_urls_rev2', 'r') as f:\n",
    "    urls = f.read().splitlines()\n",
    "\n",
    "spectra = [ APOGEESpec('../data/spectra_rev2/%s' %url.split('/')[-1]) for url in urls ]"
   ]
  },
  {
   "cell_type": "code",
   "execution_count": null,
   "id": "73647950-a292-49f3-b0bf-0ae6eace0752",
   "metadata": {},
   "outputs": [],
   "source": [
    "# Compile all spectra into 2D arrays\n",
    "\n",
    "wave = spectra[0].wave\n",
    "allFlux = np.array([ spec.flux for spec in spectra ])\n",
    "allErrs = np.array([ spec.flux_err for spec in spectra])"
   ]
  },
  {
   "cell_type": "code",
   "execution_count": null,
   "id": "a70067ed-41f0-4e25-981a-8d80bddf095b",
   "metadata": {},
   "outputs": [],
   "source": [
    "window = scipy.signal.windows.gaussian(20, 1.5)\n",
    "window = window - np.mean(window)\n",
    "\n",
    "plt.plot(window)"
   ]
  },
  {
   "cell_type": "code",
   "execution_count": null,
   "id": "5e05e899-7a90-4cd8-b3f9-7714d8ac363b",
   "metadata": {},
   "outputs": [],
   "source": [
    "flux = allFlux[33]\n",
    "\n",
    "conv = np.correlate(flux, window, mode='same')\n",
    "\n",
    "limit = np.nanpercentile(conv, 99)\n",
    "print(limit)\n",
    "features = scipy.signal.find_peaks(conv, height=limit)[0]\n",
    "print(len(features))\n",
    "plt.figure(figsize=(12,4))\n",
    "plt.plot(wave, flux, color='black')\n",
    "plt.plot(wave, conv)\n",
    "plt.plot(wave[features], flux[features], '.', color='red')\n",
    "\n",
    "#plt.xlim(15700, 15800)"
   ]
  },
  {
   "cell_type": "code",
   "execution_count": null,
   "id": "0d0865ef-465e-4a2d-9542-ecb38210bbdd",
   "metadata": {},
   "outputs": [],
   "source": [
    "def find_features(flux, window):\n",
    "    conv = np.correlate(flux, window, mode='same')\n",
    "    \n",
    "    return scipy.signal.find_peaks(conv, height=0.3)[0]\n",
    "\n",
    "features = [ find_features(flux, window) for flux in allFlux ]\n",
    "\n",
    "allFeatures = np.concatenate(features)"
   ]
  },
  {
   "cell_type": "code",
   "execution_count": null,
   "id": "c81c84a1-5e1d-4051-a5cc-8fff33c2fcdb",
   "metadata": {},
   "outputs": [],
   "source": [
    "plt.plot(wave, allFlux[0])\n",
    "plt.plot(wave[allFeatures], allFlux[0][allFeatures], '.', color='red')\n",
    "plt.xlim(16000, 16250)"
   ]
  },
  {
   "cell_type": "code",
   "execution_count": null,
   "id": "636b9273-b79c-421a-8d9d-3cd358722303",
   "metadata": {},
   "outputs": [],
   "source": [
    "featureHistogram = np.histogram(allFeatures, range(len(wave)+1))[0]\n",
    "featureSmooth = np.convolve(featureHistogram, scipy.signal.windows.gaussian(300, 20), mode='same')"
   ]
  },
  {
   "cell_type": "code",
   "execution_count": null,
   "id": "3064b96d-70fb-4b50-beb5-e8f2d4fd0a5a",
   "metadata": {},
   "outputs": [],
   "source": [
    "plt.figure(figsize=(12,4))\n",
    "\n",
    "plt.plot(wave, allFlux[0], color='black', label='APOGEE Spectrum')\n",
    "plt.plot(wave[features[0]], allFlux[0][features[0]], '.', color='red', label='Emission Lines')\n",
    "\n",
    "plt.legend(loc=2)\n",
    "plt.xlabel(r'$\\lambda$ ($\\AA$)')\n",
    "plt.ylabel(r'Relative Flux')\n",
    "plt.twinx().plot(wave[allFeatures], [-10]*len(allFeatures), '.', color='green', label='Emission Lines (All Spectra)')\n",
    "\n",
    "plt.plot(wave, featureSmooth, color='blue', label='Convolved Histogram')\n",
    "\n",
    "plt.legend()\n",
    "plt.ylabel(r'Processing Units')\n",
    "\n",
    "_ = plt.xlim(16000, 16250)"
   ]
  },
  {
   "cell_type": "code",
   "execution_count": null,
   "id": "b6f384f4-9041-4819-b505-70d3f670d2fd",
   "metadata": {},
   "outputs": [],
   "source": [
    "plt.figure(figsize=(12,4))\n",
    "\n",
    "for i in range(len(allFlux)):\n",
    "    if i == 0:\n",
    "        plt.plot(wave, allFlux[i], alpha=0.1, color='black', label='APOGEE Spectra')\n",
    "        plt.plot(wave[features[i]], allFlux[i][features[i]], '.', color='red', label='Emmision Lines (All Spectra)')\n",
    "    else:\n",
    "        plt.plot(wave, allFlux[i], alpha=0.1, color='black')\n",
    "        plt.plot(wave[features[i]], allFlux[i][features[i]], '.', color='red')\n",
    "plt.plot(wave[featureSmooth > 3], [0] * sum(featureSmooth > 3), '.', ms=1, label='Atmospheric Interference')\n",
    "plt.xlabel(r'$\\lambda$ ($\\AA$)')\n",
    "plt.legend()\n",
    "plt.ylabel('Relative Flux')\n",
    "_ = plt.xlim(16070, 16090)\n",
    "_ = plt.ylim(-0.5, 2.5)"
   ]
  },
  {
   "cell_type": "code",
   "execution_count": null,
   "id": "7996c3fb-abf2-4255-8b7c-8f390b543bc2",
   "metadata": {},
   "outputs": [],
   "source": []
  }
 ],
 "metadata": {
  "kernelspec": {
   "display_name": "Python 3 (ipykernel)",
   "language": "python",
   "name": "python3"
  },
  "language_info": {
   "codemirror_mode": {
    "name": "ipython",
    "version": 3
   },
   "file_extension": ".py",
   "mimetype": "text/x-python",
   "name": "python",
   "nbconvert_exporter": "python",
   "pygments_lexer": "ipython3",
   "version": "3.11.3"
  }
 },
 "nbformat": 4,
 "nbformat_minor": 5
}
